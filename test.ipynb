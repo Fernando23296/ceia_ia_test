{
 "cells": [
  {
   "cell_type": "markdown",
   "metadata": {},
   "source": [
    "# EXAMEN INTRODUCCION A LA INTELIGENCIA ARTIFICIAL"
   ]
  },
  {
   "cell_type": "code",
   "execution_count": 1,
   "metadata": {},
   "outputs": [],
   "source": [
    "import pandas as pd\n",
    "import numpy as np\n",
    "import matplotlib.pyplot as plt"
   ]
  },
  {
   "cell_type": "code",
   "execution_count": 2,
   "metadata": {},
   "outputs": [],
   "source": [
    "# Defino una función para particionar los datos en train_size y test_size\n",
    "def particionar(data,train_size):\n",
    "    m = data.shape[0]\n",
    "    porcentaje = (train_size*m)//100\n",
    "    return data[:porcentaje], data[porcentaje:m]\n",
    "    "
   ]
  },
  {
   "cell_type": "code",
   "execution_count": 3,
   "metadata": {},
   "outputs": [],
   "source": [
    "# Defino el MSE\n",
    "def mse(y_true, y_pred):\n",
    "    A = np.sum((y_true - y_pred) ** 2)\n",
    "    mse_ = A/y_true.shape[0]\n",
    "    return mse_"
   ]
  },
  {
   "cell_type": "markdown",
   "metadata": {},
   "source": [
    "# 2.-  Pre-procesamiento del dataset"
   ]
  },
  {
   "cell_type": "code",
   "execution_count": 4,
   "metadata": {},
   "outputs": [],
   "source": [
    "# Importo el dataset\n",
    "df = pd.read_csv(\"clase_8_dataset.csv\")"
   ]
  },
  {
   "cell_type": "code",
   "execution_count": 5,
   "metadata": {},
   "outputs": [
    {
     "data": {
      "text/html": [
       "<div>\n",
       "<style scoped>\n",
       "    .dataframe tbody tr th:only-of-type {\n",
       "        vertical-align: middle;\n",
       "    }\n",
       "\n",
       "    .dataframe tbody tr th {\n",
       "        vertical-align: top;\n",
       "    }\n",
       "\n",
       "    .dataframe thead th {\n",
       "        text-align: right;\n",
       "    }\n",
       "</style>\n",
       "<table border=\"1\" class=\"dataframe\">\n",
       "  <thead>\n",
       "    <tr style=\"text-align: right;\">\n",
       "      <th></th>\n",
       "      <th>-178.22912892785894</th>\n",
       "      <th>44.415465062766685</th>\n",
       "    </tr>\n",
       "  </thead>\n",
       "  <tbody>\n",
       "    <tr>\n",
       "      <th>0</th>\n",
       "      <td>3.191333</td>\n",
       "      <td>11.301068</td>\n",
       "    </tr>\n",
       "    <tr>\n",
       "      <th>1</th>\n",
       "      <td>222.632528</td>\n",
       "      <td>34.612523</td>\n",
       "    </tr>\n",
       "    <tr>\n",
       "      <th>2</th>\n",
       "      <td>304.313092</td>\n",
       "      <td>46.486071</td>\n",
       "    </tr>\n",
       "    <tr>\n",
       "      <th>3</th>\n",
       "      <td>255.004882</td>\n",
       "      <td>44.395526</td>\n",
       "    </tr>\n",
       "    <tr>\n",
       "      <th>4</th>\n",
       "      <td>139.863295</td>\n",
       "      <td>30.321485</td>\n",
       "    </tr>\n",
       "  </tbody>\n",
       "</table>\n",
       "</div>"
      ],
      "text/plain": [
       "   -178.22912892785894   44.415465062766685\n",
       "0             3.191333            11.301068\n",
       "1           222.632528            34.612523\n",
       "2           304.313092            46.486071\n",
       "3           255.004882            44.395526\n",
       "4           139.863295            30.321485"
      ]
     },
     "execution_count": 5,
     "metadata": {},
     "output_type": "execute_result"
    }
   ],
   "source": [
    "df.head()"
   ]
  },
  {
   "cell_type": "code",
   "execution_count": 8,
   "metadata": {},
   "outputs": [
    {
     "data": {
      "image/png": "[encoded data removed]",
      "text/plain": [
       "<Figure size 432x288 with 1 Axes>"
      ]
     },
     "metadata": {
      "needs_background": "light"
     },
     "output_type": "display_data"
    }
   ],
   "source": [
    "#Visualizo los datos\n",
    "data = np.array(df)\n",
    "plt.scatter(data[:,0],data[:, 1])\n",
    "plt.show()"
   ]
  },
  {
   "cell_type": "code",
   "execution_count": 9,
   "metadata": {},
   "outputs": [],
   "source": [
    "# Divido los datos en train_set con 80% y test_set con 20%\n",
    "train_set, test_set = particionar(data,80)"
   ]
  },
  {
   "cell_type": "code",
   "execution_count": 10,
   "metadata": {},
   "outputs": [
    {
     "data": {
      "text/plain": [
       "(399, 2)"
      ]
     },
     "execution_count": 10,
     "metadata": {},
     "output_type": "execute_result"
    }
   ],
   "source": [
    "train_set.shape"
   ]
  },
  {
   "cell_type": "code",
   "execution_count": 11,
   "metadata": {},
   "outputs": [
    {
     "data": {
      "text/plain": [
       "(100, 2)"
      ]
     },
     "execution_count": 11,
     "metadata": {},
     "output_type": "execute_result"
    }
   ],
   "source": [
    "test_set.shape"
   ]
  },
  {
   "cell_type": "markdown",
   "metadata": {},
   "source": [
    "# 3.- Utilizar regresión polinómica para hacer “fit” sobre la nube de puntos del train. Para este ejercicio, se desea utilizar la fórmula cerrada de la optimización polinómica. El modelo es de la forma y = [Wn … W0] * [X^n    X^(n-1)    …    1]. \n"
   ]
  },
  {
   "cell_type": "code",
   "execution_count": 12,
   "metadata": {},
   "outputs": [],
   "source": [
    "#Defino la funcion que me ayudará a saber cual es el mejor MSE \n",
    "def mejor_prediccion(y_pred, y_test, n):    \n",
    "    mse_data = []\n",
    "    for i in range(1,n):\n",
    "        mse_data.append(mse(y_test,y_pred))\n",
    "        \n",
    "    \n",
    "    min_value = min(mse_data)\n",
    "    min_index = mse_data.index(min_value)    \n",
    "    return y_pred[min_index], min_value"
   ]
  },
  {
   "cell_type": "code",
   "execution_count": 13,
   "metadata": {},
   "outputs": [],
   "source": [
    "#Defino la clase para hacer regresion polinomica\n",
    "class Regresion:\n",
    "    def __init__(self, grados = 1): \n",
    "        self.grados = grados\n",
    "\n",
    "    def entrenamiento(self, X, y):\n",
    "        A = []\n",
    "        B = []\n",
    "        for i in range(self.grados):\n",
    "            A_row = []\n",
    "            for j in range(self.grados):\n",
    "              potencia_x = []\n",
    "              for x in X:\n",
    "                potencia_x.append(x**(i+j))\n",
    "\n",
    "              A_row.append(np.sum(potencia_x))\n",
    "\n",
    "            A.append(A_row)\n",
    "            extra_2 = []\n",
    "            \n",
    "            for x in X:\n",
    "              extra_2.append(x**i)\n",
    "\n",
    "            extra_3 = np.multiply(extra_2, y)\n",
    "\n",
    "            B.append(np.sum(extra_3))\n",
    "            \n",
    "        w = np.linalg.inv(A) * np.transpose(B)\n",
    "        self.w = w\n",
    "    \n",
    "    def prediccion(self, X): \n",
    "        pred = [] \n",
    "        for x in X:\n",
    "            extra_3 = []\n",
    "            for j, w_j in enumerate(self.w):\n",
    "                extra_3.append(w_j * x**j)\n",
    "            pred.append(np.sum(extra_3)) \n",
    "        return pred"
   ]
  },
  {
   "cell_type": "code",
   "execution_count": 14,
   "metadata": {},
   "outputs": [],
   "source": [
    "#Divido los datos en train y test para X e y\n",
    "X_train_set = train_set[:,0]\n",
    "y_train_set = train_set[:,1]\n",
    "\n",
    "X_test_set = test_set[:,0]\n",
    "y_test_set = test_set[:,1]\n"
   ]
  },
  {
   "cell_type": "code",
   "execution_count": 15,
   "metadata": {},
   "outputs": [],
   "source": [
    "# Defino cross validation, que recibe el dataset, el numero K para cross validation y el grado polinomico\n",
    "def cross_validation(data,k,grad):\n",
    "    m = data.shape[0]\n",
    "    train_set, test_set = particionar(data,80)\n",
    "    X_train_set = train_set[:,0]\n",
    "    y_train_set = train_set[:,1]\n",
    "\n",
    "    X_test_set = test_set[:,0]\n",
    "    y_test_set = test_set[:,1]\n",
    "\n",
    "    p = int(m/k)\n",
    "    partes = list(range(0, m, p))\n",
    "    predicciones = []\n",
    "    #partes = partes[1:-1]\n",
    "    for i in range(k):\n",
    "        if i == k-1:\n",
    "            rango_a = partes[i]\n",
    "            data_porcion = data[rango_a: ]\n",
    "            model = Regresion(grados = grad)\n",
    "            model.entrenamiento(X_train_set,y_train_set)\n",
    "            pred = model.prediccion(X_test_set)\n",
    "            predicciones.append(pred)\n",
    "    \n",
    "        else:  \n",
    "            rango_a = partes[i]\n",
    "            rango_b = partes[i+1]\n",
    "            data_porcion = data[rango_a: rango_b]\n",
    "            model = Regresion(grados = grad)\n",
    "            model.entrenamiento(X_train_set,y_train_set)\n",
    "            pred = model.prediccion(X_test_set)\n",
    "            predicciones.append(pred)\n",
    "    \n",
    "    return predicciones    "
   ]
  },
  {
   "cell_type": "markdown",
   "metadata": {},
   "source": [
    "Empiezo a ver los resultados para cada caso polinomial, del 1 al 5"
   ]
  },
  {
   "cell_type": "markdown",
   "metadata": {},
   "source": [
    "## Para n =1"
   ]
  },
  {
   "cell_type": "code",
   "execution_count": 16,
   "metadata": {},
   "outputs": [
    {
     "data": {
      "text/plain": [
       "(5, 100)"
      ]
     },
     "execution_count": 16,
     "metadata": {},
     "output_type": "execute_result"
    }
   ],
   "source": [
    "predicciones_n_1 = cross_validation(data,5,1)\n",
    "predicciones_n_1 = np.array(predicciones_n_1)\n",
    "predicciones_n_1.shape"
   ]
  },
  {
   "cell_type": "code",
   "execution_count": 17,
   "metadata": {},
   "outputs": [],
   "source": [
    "mejores_predicciones = []"
   ]
  },
  {
   "cell_type": "code",
   "execution_count": 18,
   "metadata": {},
   "outputs": [],
   "source": [
    "mejor_fit_n_1, min_value_1 = mejor_prediccion(predicciones_n_1,y_test_set,5)\n",
    "mejores_predicciones.append(min_value_1)"
   ]
  },
  {
   "cell_type": "code",
   "execution_count": 19,
   "metadata": {},
   "outputs": [
    {
     "data": {
      "image/png": "[encoded data removed]",
      "text/plain": [
       "<Figure size 432x288 with 1 Axes>"
      ]
     },
     "metadata": {
      "needs_background": "light"
     },
     "output_type": "display_data"
    }
   ],
   "source": [
    "plt.scatter(X_test_set, y_test_set)\n",
    "plt.scatter(X_test_set, mejor_fit_n_1, c=\"red\")\n",
    "plt.show()"
   ]
  },
  {
   "cell_type": "markdown",
   "metadata": {},
   "source": [
    "## Para n = 2"
   ]
  },
  {
   "cell_type": "code",
   "execution_count": 20,
   "metadata": {},
   "outputs": [
    {
     "data": {
      "text/plain": [
       "(5, 100)"
      ]
     },
     "execution_count": 20,
     "metadata": {},
     "output_type": "execute_result"
    }
   ],
   "source": [
    "predicciones_n_2 = cross_validation(data,5,2)\n",
    "predicciones_n_2 = np.array(predicciones_n_2)\n",
    "predicciones_n_2.shape"
   ]
  },
  {
   "cell_type": "code",
   "execution_count": 21,
   "metadata": {},
   "outputs": [],
   "source": [
    "mejor_fit_n_2, min_value_2 = mejor_prediccion(predicciones_n_2,y_test_set,5)\n",
    "mejores_predicciones.append(min_value_2)"
   ]
  },
  {
   "cell_type": "code",
   "execution_count": 22,
   "metadata": {},
   "outputs": [
    {
     "data": {
      "image/png": "[encoded data removed]",
      "text/plain": [
       "<Figure size 432x288 with 1 Axes>"
      ]
     },
     "metadata": {
      "needs_background": "light"
     },
     "output_type": "display_data"
    }
   ],
   "source": [
    "plt.scatter(X_test_set, y_test_set)\n",
    "plt.scatter(X_test_set, mejor_fit_n_2, c=\"red\")\n",
    "plt.show()"
   ]
  },
  {
   "cell_type": "markdown",
   "metadata": {},
   "source": [
    "## Para  n = 3"
   ]
  },
  {
   "cell_type": "code",
   "execution_count": 23,
   "metadata": {},
   "outputs": [
    {
     "data": {
      "text/plain": [
       "(5, 100)"
      ]
     },
     "execution_count": 23,
     "metadata": {},
     "output_type": "execute_result"
    }
   ],
   "source": [
    "predicciones_n_3 = cross_validation(data,5,3)\n",
    "predicciones_n_3 = np.array(predicciones_n_3)\n",
    "predicciones_n_3.shape"
   ]
  },
  {
   "cell_type": "code",
   "execution_count": 24,
   "metadata": {},
   "outputs": [],
   "source": [
    "mejor_fit_n_3, min_value_3 = mejor_prediccion(predicciones_n_3,y_test_set,5)\n",
    "mejores_predicciones.append(min_value_3)"
   ]
  },
  {
   "cell_type": "code",
   "execution_count": 25,
   "metadata": {},
   "outputs": [
    {
     "data": {
      "image/png": "[encoded data removed]",
      "text/plain": [
       "<Figure size 432x288 with 1 Axes>"
      ]
     },
     "metadata": {
      "needs_background": "light"
     },
     "output_type": "display_data"
    }
   ],
   "source": [
    "plt.scatter(X_test_set, y_test_set)\n",
    "plt.scatter(X_test_set, mejor_fit_n_3, c=\"red\")\n",
    "plt.show()"
   ]
  },
  {
   "cell_type": "markdown",
   "metadata": {},
   "source": [
    "## Para n = 4"
   ]
  },
  {
   "cell_type": "code",
   "execution_count": 26,
   "metadata": {},
   "outputs": [
    {
     "data": {
      "text/plain": [
       "(5, 100)"
      ]
     },
     "execution_count": 26,
     "metadata": {},
     "output_type": "execute_result"
    }
   ],
   "source": [
    "predicciones_n_4 = cross_validation(data,5,4)\n",
    "predicciones_n_4 = np.array(predicciones_n_4)\n",
    "predicciones_n_4.shape"
   ]
  },
  {
   "cell_type": "code",
   "execution_count": 27,
   "metadata": {},
   "outputs": [],
   "source": [
    "mejor_fit_n_4, min_value_4 = mejor_prediccion(predicciones_n_4,y_test_set,5)\n",
    "mejores_predicciones.append(min_value_4)"
   ]
  },
  {
   "cell_type": "code",
   "execution_count": 28,
   "metadata": {},
   "outputs": [
    {
     "data": {
      "image/png": "[encoded data removed]",
      "text/plain": [
       "<Figure size 432x288 with 1 Axes>"
      ]
     },
     "metadata": {
      "needs_background": "light"
     },
     "output_type": "display_data"
    }
   ],
   "source": [
    "plt.scatter(X_test_set, y_test_set)\n",
    "plt.scatter(X_test_set, mejor_fit_n_4, c=\"red\")\n",
    "plt.show()"
   ]
  },
  {
   "cell_type": "markdown",
   "metadata": {},
   "source": [
    "## Para n = 5"
   ]
  },
  {
   "cell_type": "code",
   "execution_count": 29,
   "metadata": {},
   "outputs": [
    {
     "data": {
      "text/plain": [
       "(5, 100)"
      ]
     },
     "execution_count": 29,
     "metadata": {},
     "output_type": "execute_result"
    }
   ],
   "source": [
    "predicciones_n_5 = cross_validation(data,5,5)\n",
    "predicciones_n_5 = np.array(predicciones_n_5)\n",
    "predicciones_n_5.shape"
   ]
  },
  {
   "cell_type": "code",
   "execution_count": 30,
   "metadata": {},
   "outputs": [],
   "source": [
    "mejor_fit_n_5, min_value_5 = mejor_prediccion(predicciones_n_5,y_test_set,5)\n",
    "mejores_predicciones.append(min_value_5)"
   ]
  },
  {
   "cell_type": "code",
   "execution_count": 31,
   "metadata": {},
   "outputs": [
    {
     "data": {
      "image/png": "[encoded data removed]",
      "text/plain": [
       "<Figure size 432x288 with 1 Axes>"
      ]
     },
     "metadata": {
      "needs_background": "light"
     },
     "output_type": "display_data"
    }
   ],
   "source": [
    "plt.scatter(X_test_set, y_test_set)\n",
    "plt.scatter(X_test_set, mejor_fit_n_5, c=\"red\")\n",
    "plt.show()"
   ]
  },
  {
   "cell_type": "code",
   "execution_count": 32,
   "metadata": {},
   "outputs": [
    {
     "data": {
      "text/plain": [
       "[6118.671884524845,\n",
       " 4334.792727429375,\n",
       " 502.35362532002296,\n",
       " 43.95139544498198,\n",
       " 44.124083791046935]"
      ]
     },
     "execution_count": 32,
     "metadata": {},
     "output_type": "execute_result"
    }
   ],
   "source": [
    "mejores_predicciones"
   ]
  },
  {
   "cell_type": "code",
   "execution_count": 33,
   "metadata": {},
   "outputs": [
    {
     "data": {
      "image/png": "[encoded data removed]",
      "text/plain": [
       "<Figure size 432x288 with 1 Axes>"
      ]
     },
     "metadata": {
      "needs_background": "light"
     },
     "output_type": "display_data"
    }
   ],
   "source": [
    "# Realizo un grafico para ver cual polinomio fue el que mejor se ajusto a los datos\n",
    "num_data = np.array(range(1,6))\n",
    "plt.plot(num_data, mejores_predicciones)\n",
    "plt.show()"
   ]
  },
  {
   "cell_type": "markdown",
   "metadata": {},
   "source": [
    "En base al grafico elijo el polinomio con n=4, que representa un codo no muy sobreajustado"
   ]
  },
  {
   "cell_type": "markdown",
   "metadata": {},
   "source": [
    "# 4.- Para el mejor modelo seleccionado en (3c) (el mejor “n”), hacer la optimización utilizando Mini-Batch Gradient Descent (partir el train dataset en 4/5 para entrenar y 1/5 para validar)"
   ]
  },
  {
   "cell_type": "code",
   "execution_count": 34,
   "metadata": {},
   "outputs": [],
   "source": [
    "\"\"\"\n",
    "Defino mi funcion para hacer mini batch, donde los argumentos de entrada son:\n",
    "data = los datos\n",
    "batch_size = el tamanño del batch\n",
    "\"\"\"\n",
    "def mini_batch(data,batch_size):\n",
    "    m = data.shape[0]\n",
    "    np.random.shuffle(data)\n",
    "    train_set, test_set = particionar(data,80)\n",
    "    X_train_set = train_set[:,0]\n",
    "    y_train_set = train_set[:,1]\n",
    "\n",
    "    X_test_set = test_set[:,0]\n",
    "    y_test_set = test_set[:,1]\n",
    "\n",
    "    p = int(m/batch_size)\n",
    "    partes = list(range(0, m, p))\n",
    "    predicciones = []\n",
    "    #partes = partes[1:-1]\n",
    "    \n",
    "    mini_batches = []\n",
    "    for i in range(batch_size):\n",
    "        if i == batch_size-1:\n",
    "            rango_a = partes[i]\n",
    "            data_porcion = data[rango_a: ]\n",
    "            data_porcion = data[rango_a: rango_b]\n",
    "            mini_batches.append(data_porcion)\n",
    "        else:  \n",
    "            rango_a = partes[i]\n",
    "            rango_b = partes[i+1]\n",
    "            data_porcion = data[rango_a: rango_b]\n",
    "            mini_batches.append(data_porcion)\n",
    "    \n",
    "    return mini_batches    "
   ]
  },
  {
   "cell_type": "markdown",
   "metadata": {},
   "source": [
    "### Uso mini batch para el mejor polinomio"
   ]
  },
  {
   "cell_type": "code",
   "execution_count": 35,
   "metadata": {},
   "outputs": [
    {
     "name": "stderr",
     "output_type": "stream",
     "text": [
      "/home/fernando/miniconda3/envs/uba/lib/python3.6/site-packages/ipykernel_launcher.py:3: VisibleDeprecationWarning: Creating an ndarray from ragged nested sequences (which is a list-or-tuple of lists-or-tuples-or ndarrays with different lengths or shapes) is deprecated. If you meant to do this, you must specify 'dtype=object' when creating the ndarray\n",
      "  This is separate from the ipykernel package so we can avoid doing imports until\n"
     ]
    }
   ],
   "source": [
    "# Aplico mini-batch para el polinomio = 4\n",
    "batch = 32\n",
    "mini_batches = np.array(mini_batch(data,batch))\n",
    "mejores_predicciones_2 = []\n",
    "for i in range(batch-1):\n",
    "    porcion = mini_batches[i]\n",
    "    predicciones_n_4 = cross_validation(porcion,5,4)\n",
    "    predicciones_n_4 = np.array(predicciones_n_4)\n",
    "    train_set, test_set = particionar(porcion,80)\n",
    "    y_test_set = test_set[:,1]\n",
    "    mejor_fit_n_4, max_value_4 = mejor_prediccion(predicciones_n_4,y_test_set,5)\n",
    "    mejores_predicciones_2.append(max_value_4)"
   ]
  },
  {
   "cell_type": "code",
   "execution_count": null,
   "metadata": {},
   "outputs": [],
   "source": []
  }
 ],
 "metadata": {
  "kernelspec": {
   "display_name": "uba",
   "language": "python",
   "name": "uba"
  },
  "language_info": {
   "codemirror_mode": {
    "name": "ipython",
    "version": 3
   },
   "file_extension": ".py",
   "mimetype": "text/x-python",
   "name": "python",
   "nbconvert_exporter": "python",
   "pygments_lexer": "ipython3",
   "version": "3.6.13"
  }
 },
 "nbformat": 4,
 "nbformat_minor": 2
}
